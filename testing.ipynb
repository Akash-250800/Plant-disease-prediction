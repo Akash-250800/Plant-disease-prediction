{
 "cells": [
  {
   "cell_type": "code",
   "execution_count": null,
   "id": "3b76f543",
   "metadata": {},
   "outputs": [],
   "source": [
    "splitfolders --ratio 0.8 0.1 0.1 --output split_data -- plant_village\n"
   ]
  }
 ],
 "metadata": {
  "kernelspec": {
   "display_name": "venv",
   "language": "python",
   "name": "python3"
  },
  "language_info": {
   "codemirror_mode": {
    "name": "ipython",
    "version": 3
   },
   "file_extension": ".py",
   "mimetype": "text/x-python",
   "name": "python",
   "nbconvert_exporter": "python",
   "pygments_lexer": "ipython3",
   "version": "3.10.9"
  }
 },
 "nbformat": 4,
 "nbformat_minor": 5
}
